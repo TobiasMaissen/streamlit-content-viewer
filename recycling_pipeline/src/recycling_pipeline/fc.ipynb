{
 "cells": [
  {
   "cell_type": "code",
   "execution_count": 2,
   "metadata": {},
   "outputs": [
    {
     "name": "stdout",
     "output_type": "stream",
     "text": [
      "✅ Validation successful!\n",
      "\n",
      "📊 Collection Overview:\n",
      "Created at: 2023-10-05 12:00:00+00:00\n",
      "Total posts: 2\n"
     ]
    },
    {
     "data": {
      "text/html": [
       "<div>\n",
       "<style scoped>\n",
       "    .dataframe tbody tr th:only-of-type {\n",
       "        vertical-align: middle;\n",
       "    }\n",
       "\n",
       "    .dataframe tbody tr th {\n",
       "        vertical-align: top;\n",
       "    }\n",
       "\n",
       "    .dataframe thead th {\n",
       "        text-align: right;\n",
       "    }\n",
       "</style>\n",
       "<table border=\"1\" class=\"dataframe\">\n",
       "  <thead>\n",
       "    <tr style=\"text-align: right;\">\n",
       "      <th></th>\n",
       "      <th>Title</th>\n",
       "      <th>Original Date</th>\n",
       "      <th>LLM Model</th>\n",
       "      <th>Word Count</th>\n",
       "      <th>Images</th>\n",
       "      <th>Author</th>\n",
       "      <th>Read Time</th>\n",
       "    </tr>\n",
       "  </thead>\n",
       "  <tbody>\n",
       "    <tr>\n",
       "      <th>0</th>\n",
       "      <td>Diese 12 MS Outlook Kalender Tipps &amp; Tricks so...</td>\n",
       "      <td>Unbekanntes Datum</td>\n",
       "      <td>gpt-4-turbo-preview</td>\n",
       "      <td>550</td>\n",
       "      <td>3</td>\n",
       "      <td>Michael Freuler</td>\n",
       "      <td>8 min read</td>\n",
       "    </tr>\n",
       "    <tr>\n",
       "      <th>1</th>\n",
       "      <td>Die neuesten Teams Updates im Überblick! 2025, Q1</td>\n",
       "      <td>Unbekanntes Datum</td>\n",
       "      <td>gpt-4-turbo-preview</td>\n",
       "      <td>400</td>\n",
       "      <td>2</td>\n",
       "      <td>Nico Schwerzmann</td>\n",
       "      <td>3 min read</td>\n",
       "    </tr>\n",
       "  </tbody>\n",
       "</table>\n",
       "</div>"
      ],
      "text/plain": [
       "                                               Title      Original Date  \\\n",
       "0  Diese 12 MS Outlook Kalender Tipps & Tricks so...  Unbekanntes Datum   \n",
       "1  Die neuesten Teams Updates im Überblick! 2025, Q1  Unbekanntes Datum   \n",
       "\n",
       "             LLM Model  Word Count  Images            Author   Read Time  \n",
       "0  gpt-4-turbo-preview         550       3   Michael Freuler  8 min read  \n",
       "1  gpt-4-turbo-preview         400       2  Nico Schwerzmann  3 min read  "
      ]
     },
     "metadata": {},
     "output_type": "display_data"
    },
    {
     "name": "stdout",
     "output_type": "stream",
     "text": [
      "\n",
      "📝 Content Previews:\n",
      "\n",
      "Post 1: Diese 12 MS Outlook Kalender Tipps & Tricks sollten Sie kennen\n",
      "--------------------------------------------------\n",
      "# Diese 12 MS Outlook Kalender Tipps & Tricks sollten Sie kennen\n",
      "\n",
      "Der MS Outlook Kalender ist ein unverzichtbares Tool im Berufsalltag, besonders in Zeiten von Remote-Arbeit. Hier sind 12 Tipps & Tric...\n",
      "\n",
      "Post 2: Die neuesten Teams Updates im Überblick! 2025, Q1\n",
      "--------------------------------------------------\n",
      "# Die neuesten Teams Updates im Überblick! 2025, Q1\n",
      "\n",
      "Microsoft Teams wird kontinuierlich weiterentwickelt, um die digitale Zusammenarbeit effizienter und intuitiver zu gestalten. Hier sind die wichtig...\n"
     ]
    }
   ],
   "source": [
    "import json\n",
    "from pydantic import ValidationError\n",
    "from models import BlogPostCollection\n",
    "import pandas as pd\n",
    "from datetime import datetime\n",
    "\n",
    "# 1. Load and parse the preview.md content\n",
    "with open('preview.md', 'r', encoding='utf-8') as f:\n",
    "    content = json.loads(f.read())\n",
    "\n",
    "# 2. Validate using our Pydantic model\n",
    "try:\n",
    "    collection = BlogPostCollection(**content)\n",
    "    print(\"✅ Validation successful!\")\n",
    "except ValidationError as e:\n",
    "    print(\"❌ Validation failed:\")\n",
    "    print(e)\n",
    "\n",
    "# 3. Create detailed overview\n",
    "def analyze_collection(collection: BlogPostCollection):\n",
    "    # Basic Info\n",
    "    print(\"\\n📊 Collection Overview:\")\n",
    "    print(f\"Created at: {collection.created_at}\")\n",
    "    print(f\"Total posts: {collection.total_posts}\")\n",
    "    \n",
    "    # Create DataFrame for posts\n",
    "    posts_data = []\n",
    "    for post in collection.posts:\n",
    "        post_info = {\n",
    "            'Title': post.title,\n",
    "            'Original Date': post.original_date,\n",
    "            'LLM Model': post.llm_model,\n",
    "            'Word Count': post.stats.get('word_count', 0) if post.stats else 0,\n",
    "            'Images': post.stats.get('images', 0) if post.stats else 0,\n",
    "            'Author': post.metadata.get('author', 'Unknown'),\n",
    "            'Read Time': post.metadata.get('read_time', 'Unknown')\n",
    "        }\n",
    "        posts_data.append(post_info)\n",
    "    \n",
    "    df = pd.DataFrame(posts_data)\n",
    "    display(df)\n",
    "    \n",
    "    # Content Preview\n",
    "    print(\"\\n📝 Content Previews:\")\n",
    "    for i, post in enumerate(collection.posts, 1):\n",
    "        print(f\"\\nPost {i}: {post.title}\")\n",
    "        print(\"-\" * 50)\n",
    "        # Show first 200 characters of content\n",
    "        print(f\"{post.recycled_content[:200]}...\")\n",
    "\n",
    "# Run analysis\n",
    "if 'collection' in locals():\n",
    "    analyze_collection(collection)"
   ]
  },
  {
   "cell_type": "code",
   "execution_count": 4,
   "metadata": {},
   "outputs": [
    {
     "data": {
      "text/html": [
       "<pre style=\"white-space:pre;overflow-x:auto;line-height:normal;font-family:Menlo,'DejaVu Sans Mono',consolas,'Courier New',monospace\"><span style=\"color: #800000; text-decoration-color: #800000\">Error: Expecting value: line </span><span style=\"color: #800000; text-decoration-color: #800000; font-weight: bold\">1</span><span style=\"color: #800000; text-decoration-color: #800000\"> column </span><span style=\"color: #800000; text-decoration-color: #800000; font-weight: bold\">1</span><span style=\"color: #800000; text-decoration-color: #800000\"> </span><span style=\"color: #800000; text-decoration-color: #800000; font-weight: bold\">(</span><span style=\"color: #800000; text-decoration-color: #800000\">char </span><span style=\"color: #800000; text-decoration-color: #800000; font-weight: bold\">0</span><span style=\"color: #800000; text-decoration-color: #800000; font-weight: bold\">)</span>\n",
       "</pre>\n"
      ],
      "text/plain": [
       "\u001b[31mError: Expecting value: line \u001b[0m\u001b[1;31m1\u001b[0m\u001b[31m column \u001b[0m\u001b[1;31m1\u001b[0m\u001b[31m \u001b[0m\u001b[1;31m(\u001b[0m\u001b[31mchar \u001b[0m\u001b[1;31m0\u001b[0m\u001b[1;31m)\u001b[0m\n"
      ]
     },
     "metadata": {},
     "output_type": "display_data"
    }
   ],
   "source": [
    "import json\n",
    "from rich.console import Console\n",
    "from rich.markdown import Markdown\n",
    "from rich.panel import Panel\n",
    "\n",
    "def display_preview():\n",
    "    console = Console()\n",
    "    \n",
    "    try:\n",
    "        # Lese die preview.md Datei\n",
    "        with open('preview.md', 'r', encoding='utf-8') as f:\n",
    "            content = f.read()\n",
    "        \n",
    "        # Parse JSON-Inhalt\n",
    "        data = json.loads(content)\n",
    "        \n",
    "        # Zeige jeden Blogpost in einem Panel an\n",
    "        for post in data['posts']:\n",
    "            # Erstelle einen formatierten Header\n",
    "            header = f\"🔗 {post['title']}\\n📅 {post['original_date']}\"\n",
    "            \n",
    "            # Zeige den Inhalt in einem Panel an\n",
    "            console.print(Panel(\n",
    "                Markdown(post['recycled_content']),\n",
    "                title=header,\n",
    "                border_style=\"blue\",\n",
    "                padding=(1, 2)\n",
    "            ))\n",
    "            console.print(\"\\n\")  # Abstand zwischen Posts\n",
    "\n",
    "    except Exception as e:\n",
    "        console.print(f\"[red]Error: {str(e)}[/red]\")\n",
    "\n",
    "if __name__ == \"__main__\":\n",
    "    display_preview()"
   ]
  }
 ],
 "metadata": {
  "kernelspec": {
   "display_name": ".venv",
   "language": "python",
   "name": "python3"
  },
  "language_info": {
   "codemirror_mode": {
    "name": "ipython",
    "version": 3
   },
   "file_extension": ".py",
   "mimetype": "text/x-python",
   "name": "python",
   "nbconvert_exporter": "python",
   "pygments_lexer": "ipython3",
   "version": "3.11.8"
  }
 },
 "nbformat": 4,
 "nbformat_minor": 2
}
